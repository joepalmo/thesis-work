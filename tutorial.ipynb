{
 "cells": [
  {
   "cell_type": "code",
   "execution_count": 1,
   "source": [
    "import accretion as a\n",
    "import accretion_objects as objects\n",
    "from importlib import reload\n",
    "reload(a)\n",
    "reload(objects)"
   ],
   "outputs": [
    {
     "output_type": "execute_result",
     "data": {
      "text/plain": [
       "<module 'accretion_objects' from '/Users/joepalmo/Documents/GitHub/thesis-work/accretion_objects.py'>"
      ]
     },
     "metadata": {},
     "execution_count": 1
    }
   ],
   "metadata": {}
  },
  {
   "cell_type": "code",
   "execution_count": 5,
   "source": [
    "import numpy as np\n",
    "import pandas as pd\n",
    "import matplotlib.pyplot as plt\n",
    "import scipy.stats as st\n",
    "import seaborn as sb\n",
    "from astropy import constants as const\n",
    "import astropy.constants as const\n",
    "import extinction as ex\n",
    "import scipy.optimize as optimization\n",
    "import scipy.interpolate as sinterp\n",
    "from sklearn.neighbors import KernelDensity\n",
    "import pickle\n",
    "\n",
    "%matplotlib inline"
   ],
   "outputs": [],
   "metadata": {}
  },
  {
   "cell_type": "markdown",
   "source": [
    "# Load In and Clean Data\n",
    "\n",
    "Below I load in an old version of the CASPAR database. To clean it, I simply remove any points that are limits, because their accretion rate values are not true observations. "
   ],
   "metadata": {}
  },
  {
   "cell_type": "code",
   "execution_count": 4,
   "source": [
    "observed = pd.read_csv('accdb_updated.csv')\n",
    "observed['Upper Limit'] = observed['Upper Limit'].fillna('No')\n",
    "nolimit = observed[observed['Upper Limit']=='No']"
   ],
   "outputs": [],
   "metadata": {}
  },
  {
   "cell_type": "markdown",
   "source": [
    "# Run a Simulation"
   ],
   "metadata": {}
  },
  {
   "cell_type": "markdown",
   "source": [
    "#### Bootstrapped Distribution:"
   ],
   "metadata": {}
  },
  {
   "cell_type": "code",
   "execution_count": 6,
   "source": [
    "bootstrapped = objects.AccretionDistribution(nolimit)\n",
    "bootstrapped.bootstrap()"
   ],
   "outputs": [
    {
     "output_type": "stream",
     "name": "stderr",
     "text": [
      "/Users/joepalmo/Documents/GitHub/thesis-work/accretion_objects.py:351: SettingWithCopyWarning: \n",
      "A value is trying to be set on a copy of a slice from a DataFrame.\n",
      "Try using .loc[row_indexer,col_indexer] = value instead\n",
      "\n",
      "See the caveats in the documentation: https://pandas.pydata.org/pandas-docs/stable/user_guide/indexing.html#returning-a-view-versus-a-copy\n",
      "  observed['A_V'] = observed['A_V'].fillna(0)\n"
     ]
    }
   ],
   "metadata": {}
  },
  {
   "cell_type": "markdown",
   "source": [],
   "metadata": {}
  }
 ],
 "metadata": {
  "orig_nbformat": 4,
  "language_info": {
   "name": "python",
   "version": "3.6.13",
   "mimetype": "text/x-python",
   "codemirror_mode": {
    "name": "ipython",
    "version": 3
   },
   "pygments_lexer": "ipython3",
   "nbconvert_exporter": "python",
   "file_extension": ".py"
  },
  "kernelspec": {
   "name": "python3",
   "display_name": "Python 3.6.13 64-bit ('base': conda)"
  },
  "interpreter": {
   "hash": "3fcd17afe4e1c93c45609941eb8b202e6033b149f0385ed99e357bbaf34cd4c8"
  }
 },
 "nbformat": 4,
 "nbformat_minor": 2
}