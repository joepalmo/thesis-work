{
 "cells": [
  {
   "cell_type": "code",
   "execution_count": 1,
   "metadata": {},
   "outputs": [],
   "source": [
    "import numpy as np\n",
    "import pandas as pd\n",
    "import matplotlib.pyplot as plt\n",
    "%matplotlib inline\n",
    "import scipy.stats as st\n",
    "import seaborn as sb\n",
    "from astropy import constants as const\n",
    "import random\n",
    "import astropy.constants as const\n",
    "import math\n",
    "from tqdm import tqdm\n",
    "import extinction as ex\n",
    "import pdb\n",
    "import glob\n",
    "import scipy.optimize as optimization\n",
    "\n",
    "pd.set_option('display.max_columns', None)\n",
    "pd.set_option('display.max_rows', None)"
   ]
  },
  {
   "cell_type": "code",
   "execution_count": 2,
   "metadata": {},
   "outputs": [],
   "source": [
    "#import statements from Connor's code, I may not make use of all of them\n",
    "\n",
    "from astropy.io import ascii, fits\n",
    "import pickle \n",
    "from astropy.table import Table, Column, join, hstack\n",
    "from tqdm import tqdm\n",
    "import pdb\n",
    "import scipy.interpolate as sinterp"
   ]
  },
  {
   "cell_type": "code",
   "execution_count": 3,
   "metadata": {},
   "outputs": [],
   "source": [
    "import warnings\n",
    "warnings.filterwarnings('ignore')"
   ]
  },
  {
   "cell_type": "code",
   "execution_count": 4,
   "metadata": {},
   "outputs": [],
   "source": [
    "#define function used to fit line to data\n",
    "def slopeintfunc(x,s1,incpt):\n",
    "    return s1*x+incpt"
   ]
  },
  {
   "cell_type": "code",
   "execution_count": 5,
   "metadata": {},
   "outputs": [],
   "source": [
    "# Spectral Type to Temperature Using Herczeg-Hillenbrand"
   ]
  },
  {
   "cell_type": "code",
   "execution_count": 6,
   "metadata": {},
   "outputs": [],
   "source": [
    "# To decode the numerical spectral types to actual types:\n",
    "# SpectralClass   Value   Prefix\n",
    "# B   0-9 0\n",
    "# A   10-19   1\n",
    "# F   20-29   2\n",
    "# G   30-39   3\n",
    "# K   40-48   4\n",
    "# M   50-59   5"
   ]
  },
  {
   "cell_type": "code",
   "execution_count": 7,
   "metadata": {},
   "outputs": [],
   "source": [
    "def to_SpTyNum(spectype):\n",
    "    spty_dict = {'B' : 0,\n",
    "                 'A' : 1,\n",
    "                 'F' : 2,\n",
    "                 'G' : 3,\n",
    "                 'K' : 4,\n",
    "                 'M' : 5}\n",
    "    \n",
    "    letter = spectype[0]\n",
    "    number = spectype[1:]\n",
    "    \n",
    "    sptynum = spty_dict[letter]*10 + int(number)\n",
    "    \n",
    "    return sptynum"
   ]
  },
  {
   "cell_type": "code",
   "execution_count": 27,
   "metadata": {},
   "outputs": [
    {
     "data": {
      "text/plain": [
       "55"
      ]
     },
     "execution_count": 27,
     "metadata": {},
     "output_type": "execute_result"
    }
   ],
   "source": [
    "to_SpTyNum('M5')"
   ]
  },
  {
   "cell_type": "code",
   "execution_count": 14,
   "metadata": {},
   "outputs": [],
   "source": [
    "def SpTy_to_Teff(spectype):\n",
    "    '''\n",
    "    This function will take a numerical spectral type identifier, and using interpolation from the tables in\n",
    "    Herczeg and Hillenbrand 2014 it will calculate an effective temperature.\n",
    "    '''\n",
    "    SpTyNum, Teff, SpTy = np.genfromtxt('StellarParams/HerczegHillenbrand_SpTyTeff_Numericized.txt', skip_header=1, dtype='str').T\n",
    "    SpTyNum, Teff = [float(x) for x in SpTyNum], [float(y) for y in Teff]\n",
    "    \n",
    "    spl = sinterp.interp1d(SpTyNum, Teff, fill_value='extrapolate')\n",
    "    \n",
    "    teff = spl(spectype)\n",
    "    \n",
    "    return teff"
   ]
  },
  {
   "cell_type": "code",
   "execution_count": 25,
   "metadata": {},
   "outputs": [
    {
     "data": {
      "text/plain": [
       "array(1970.)"
      ]
     },
     "execution_count": 25,
     "metadata": {},
     "output_type": "execute_result"
    }
   ],
   "source": [
    "SpTy_to_Teff(65)\n",
    "#How are we going to treat BDs here, the temps start increasing after type M unfortunately"
   ]
  },
  {
   "cell_type": "code",
   "execution_count": 16,
   "metadata": {},
   "outputs": [
    {
     "ename": "NameError",
     "evalue": "name 'SpTyNum' is not defined",
     "output_type": "error",
     "traceback": [
      "\u001b[0;31m---------------------------------------------------------------------------\u001b[0m",
      "\u001b[0;31mNameError\u001b[0m                                 Traceback (most recent call last)",
      "\u001b[0;32m<ipython-input-16-df5aa5eb762a>\u001b[0m in \u001b[0;36m<module>\u001b[0;34m\u001b[0m\n\u001b[0;32m----> 1\u001b[0;31m \u001b[0mlen\u001b[0m\u001b[0;34m(\u001b[0m\u001b[0mSpTyNum\u001b[0m\u001b[0;34m)\u001b[0m\u001b[0;34m\u001b[0m\u001b[0;34m\u001b[0m\u001b[0m\n\u001b[0m",
      "\u001b[0;31mNameError\u001b[0m: name 'SpTyNum' is not defined"
     ]
    }
   ],
   "source": [
    "len(SpTyNum)"
   ]
  },
  {
   "cell_type": "code",
   "execution_count": 59,
   "metadata": {},
   "outputs": [
    {
     "data": {
      "image/png": "[encoded data removed]",
      "text/plain": [
       "<Figure size 432x288 with 1 Axes>"
      ]
     },
     "metadata": {
      "needs_background": "light"
     },
     "output_type": "display_data"
    }
   ],
   "source": [
    "SpTyNum, Teff, SpTy = np.genfromtxt('StellarParams/HerczegHillenbrand_SpTyTeff_Numericized.txt', skip_header=1, dtype='str').T\n",
    "SpTyNum, Teff = [float(x) for x in SpTyNum], [float(y) for y in Teff]\n",
    "\n",
    "#spl = sinterp.UnivariateSpline(SpTyNum, Teff)\n",
    "spl = sinterp.interp1d(SpTyNum, Teff, fill_value='extrapolate')\n",
    "\n",
    "best = optimization.curve_fit(slopeintfunc, SpTyNum, Teff)\n",
    "bestslope = str(round(best[0][0], 2))\n",
    "#plt.plot(range(70), slopeintfunc(range(70), best[0][0], best[0][1]), linestyle='-', color = \"salmon\", label='Total Best Fit: Slope ='+bestslope)\n",
    "\n",
    "best1 = optimization.curve_fit(slopeintfunc, SpTyNum[10:], Teff[10:])\n",
    "best1slope = str(round(best1[0][0], 2))\n",
    "#plt.plot(range(70), slopeintfunc(range(70), best1[0][0], best1[0][1]), linestyle='-', color = \"green\", label='M Dwarf Best Fit: Slope ='+best1slope)\n",
    "\n",
    "plt.plot(range(70), spl(range(70)), label='Interpolated Function', color='k', alpha=0.75)\n",
    "plt.scatter(SpTyNum, Teff, alpha=0.5, color='k', s=70, label='Points from H&H 2014')\n",
    "plt.xlabel('Spectral Type', fontsize=14)\n",
    "plt.ylabel('Effective Temperature', fontsize=14)\n",
    "#plt.xlim(20, 70)\n",
    "#plt.ylim(0, 10000)\n",
    "plt.title('Spectral Type and Effective Temperature', fontsize=15)\n",
    "plt.legend(fontsize=12)\n",
    "plt.xlim(25, 65)\n",
    "plt.xticks([20,30,40,50,60], ['A','F','G','K','M'])\n",
    "plt.ylim(1500, 8000)\n",
    "plt.savefig('H&H.png', dpi=120)"
   ]
  },
  {
   "cell_type": "code",
   "execution_count": 30,
   "metadata": {},
   "outputs": [],
   "source": [
    "# Now from Teff to mass and radius"
   ]
  },
  {
   "cell_type": "code",
   "execution_count": 31,
   "metadata": {},
   "outputs": [
    {
     "data": {
      "text/plain": [
       "['StellarParams/Baraffe2015_10Myr.txt',\n",
       " 'StellarParams/Baraffe2015_1Myr.txt',\n",
       " 'StellarParams/Baraffe2015_2Myr.txt',\n",
       " 'StellarParams/Baraffe2015_3Myr.txt',\n",
       " 'StellarParams/Baraffe2015_8Myr.txt']"
      ]
     },
     "execution_count": 31,
     "metadata": {},
     "output_type": "execute_result"
    }
   ],
   "source": [
    "models = glob.glob('StellarParams/Baraffe*txt')\n",
    "mesamodels = glob.glob('StellarParams/MESA_*.txt')\n",
    "\n",
    "models\n",
    "# 2015 Baraffe models are accurate for all objects w/ Teff < 4658 K\n",
    "# I will only incorporate Baraffe models at first"
   ]
  },
  {
   "cell_type": "code",
   "execution_count": null,
   "metadata": {},
   "outputs": [],
   "source": []
  },
  {
   "cell_type": "code",
   "execution_count": 32,
   "metadata": {},
   "outputs": [],
   "source": [
    "def Teff_to_params(Teff, age):\n",
    "    '''\n",
    "    This function will take an effective temperature and an age, and by interpolating the Baraffe 2015 models \n",
    "    it will return a mass and radius estimate for the object.\n",
    "    '''\n",
    "    #Find the most accurate model given age\n",
    "    ages = [1, 2, 3, 8, 10]\n",
    "    age_diff = []\n",
    "    for a in ages:\n",
    "        age_diff.append(np.abs(age-a))\n",
    "    closest_age = ages[age_diff.index(min(age_diff))]\n",
    "    \n",
    "    model = None\n",
    "    for m in models:\n",
    "        if (str(closest_age)+'Myr') in m:\n",
    "            model = m\n",
    "            \n",
    "    mass, teff, loglum, logg, radius = np.loadtxt(model, skiprows=1).T\n",
    "    \n",
    "    p_mass = np.polyfit(teff, mass, 10)\n",
    "    f_mass = np.poly1d(p_mass)\n",
    "    \n",
    "    p_radius = np.polyfit(teff, radius, 10)\n",
    "    f_radius = np.poly1d(p_radius)\n",
    "    \n",
    "    m = f_mass(Teff)\n",
    "    r = f_radius(Teff)\n",
    "    \n",
    "    return m, r"
   ]
  },
  {
   "cell_type": "code",
   "execution_count": 33,
   "metadata": {},
   "outputs": [
    {
     "data": {
      "text/plain": [
       "(0.32619683706434444, 1.0848985157499555)"
      ]
     },
     "execution_count": 33,
     "metadata": {},
     "output_type": "execute_result"
    }
   ],
   "source": [
    "Teff_to_params(3450, 5.4)"
   ]
  },
  {
   "cell_type": "code",
   "execution_count": null,
   "metadata": {},
   "outputs": [],
   "source": []
  },
  {
   "cell_type": "code",
   "execution_count": 34,
   "metadata": {},
   "outputs": [],
   "source": [
    "# Let's see how much a half spec type error affects mass and radius estimate with MC"
   ]
  },
  {
   "cell_type": "code",
   "execution_count": 35,
   "metadata": {},
   "outputs": [],
   "source": [
    "spty = 'M5'\n",
    "sptynum = to_SpTyNum(spty)\n",
    "spty_unc = 0.5\n",
    "t_unc = 100\n",
    "numMC = 500"
   ]
  },
  {
   "cell_type": "code",
   "execution_count": 36,
   "metadata": {},
   "outputs": [],
   "source": [
    "st = sptynum + np.random.normal(scale = spty_unc, size = numMC)\n",
    "T = SpTy_to_Teff(st) + np.random.normal(scale = t_unc, size = numMC)\n",
    "M = Teff_to_params(T, 1)[0]\n",
    "R = Teff_to_params(T, 1)[1]"
   ]
  },
  {
   "cell_type": "code",
   "execution_count": 37,
   "metadata": {},
   "outputs": [
    {
     "data": {
      "text/plain": [
       "(0.10749615717077177, 1.0713005334255286)"
      ]
     },
     "execution_count": 37,
     "metadata": {},
     "output_type": "execute_result"
    }
   ],
   "source": [
    "Teff_to_params(SpTy_to_Teff(sptynum), 1)"
   ]
  },
  {
   "cell_type": "code",
   "execution_count": 38,
   "metadata": {},
   "outputs": [
    {
     "data": {
      "text/plain": [
       "<matplotlib.legend.Legend at 0x1a2285e668>"
      ]
     },
     "execution_count": 38,
     "metadata": {},
     "output_type": "execute_result"
    },
    {
     "data": {
      "image/png": "[encoded data removed]",
      "text/plain": [
       "<Figure size 432x288 with 1 Axes>"
      ]
     },
     "metadata": {
      "needs_background": "light"
     },
     "output_type": "display_data"
    }
   ],
   "source": [
    "plt.scatter(M, R, label='Simulated')\n",
    "plt.scatter(0.10749615717077177, 1.0713005334255286, label='No Uncertainty')\n",
    "plt.xlabel('M/Msun')\n",
    "plt.ylabel('R/Rsun')\n",
    "plt.legend()"
   ]
  },
  {
   "cell_type": "code",
   "execution_count": null,
   "metadata": {},
   "outputs": [],
   "source": []
  },
  {
   "cell_type": "code",
   "execution_count": 47,
   "metadata": {},
   "outputs": [],
   "source": [
    "def mass_to_Teff(massobj, age):\n",
    "    '''\n",
    "    This function will take a mass and an age, and by interpolating the Baraffe 2015 models \n",
    "    it will return a temperature estimate for the object.\n",
    "    '''\n",
    "    #Find the most accurate model given age\n",
    "    ages = [1, 2, 3, 8, 10]\n",
    "    age_diff = []\n",
    "    for a in ages:\n",
    "        age_diff.append(np.abs(age-a))\n",
    "    closest_age = ages[age_diff.index(min(age_diff))]\n",
    "    \n",
    "    model = None\n",
    "    for m in models:\n",
    "        if (str(closest_age)+'Myr') in m:\n",
    "            model = m\n",
    "            \n",
    "    mass, teff, loglum, logg, radius = np.loadtxt(model, skiprows=1).T\n",
    "    \n",
    "    p_teff = np.polyfit(mass, teff, 10)\n",
    "    f_teff = np.poly1d(p_teff)\n",
    "    \n",
    "    t = f_teff(massobj)\n",
    "    \n",
    "    return t"
   ]
  },
  {
   "cell_type": "code",
   "execution_count": 63,
   "metadata": {},
   "outputs": [],
   "source": [
    "def Teff_to_SpTy(teff):\n",
    "    '''\n",
    "    This function will take an effective temperature, and using interpolation from the tables in\n",
    "    Herczeg and Hillenbrand 2014 it will calculate a numerical spectral type identifier.\n",
    "    '''\n",
    "    SpTyNum, Teff, SpTy = np.genfromtxt('StellarParams/HerczegHillenbrand_SpTyTeff_Numericized.txt', skip_header=1, dtype='str').T\n",
    "    SpTyNum, Teff = [float(x) for x in SpTyNum], [float(y) for y in Teff]\n",
    "    SpTyNum.reverse()\n",
    "    Teff.reverse()\n",
    "    \n",
    "    spl = sinterp.UnivariateSpline(Teff, SpTyNum)\n",
    "    \n",
    "    spty = spl(teff)\n",
    "    \n",
    "    return spty"
   ]
  },
  {
   "cell_type": "code",
   "execution_count": 67,
   "metadata": {},
   "outputs": [
    {
     "data": {
      "text/plain": [
       "array(55.7016915)"
      ]
     },
     "execution_count": 67,
     "metadata": {},
     "output_type": "execute_result"
    }
   ],
   "source": []
  },
  {
   "cell_type": "code",
   "execution_count": 58,
   "metadata": {},
   "outputs": [],
   "source": [
    "\n"
   ]
  },
  {
   "cell_type": "code",
   "execution_count": 59,
   "metadata": {},
   "outputs": [
    {
     "data": {
      "text/plain": [
       "[2570.0,\n",
       " 2670.0,\n",
       " 2770.0,\n",
       " 2860.0,\n",
       " 2980.0,\n",
       " 3190.0,\n",
       " 3410.0,\n",
       " 3560.0,\n",
       " 3720.0,\n",
       " 3900.0,\n",
       " 4020.0,\n",
       " 4210.0,\n",
       " 4710.0,\n",
       " 4870.0,\n",
       " 5180.0,\n",
       " 5430.0,\n",
       " 5690.0,\n",
       " 5930.0,\n",
       " 6130.0,\n",
       " 6600.0]"
      ]
     },
     "execution_count": 59,
     "metadata": {},
     "output_type": "execute_result"
    }
   ],
   "source": [
    "Teff"
   ]
  },
  {
   "cell_type": "code",
   "execution_count": 61,
   "metadata": {},
   "outputs": [],
   "source": [
    "SpTyNum.reverse()"
   ]
  },
  {
   "cell_type": "code",
   "execution_count": 62,
   "metadata": {},
   "outputs": [
    {
     "data": {
      "text/plain": [
       "[59.0,\n",
       " 58.0,\n",
       " 57.0,\n",
       " 56.0,\n",
       " 55.0,\n",
       " 54.0,\n",
       " 53.0,\n",
       " 52.0,\n",
       " 51.0,\n",
       " 50.0,\n",
       " 47.0,\n",
       " 45.0,\n",
       " 42.0,\n",
       " 40.0,\n",
       " 38.0,\n",
       " 35.0,\n",
       " 32.0,\n",
       " 30.0,\n",
       " 28.0,\n",
       " 25.0]"
      ]
     },
     "execution_count": 62,
     "metadata": {},
     "output_type": "execute_result"
    }
   ],
   "source": [
    "SpTyNum"
   ]
  },
  {
   "cell_type": "code",
   "execution_count": null,
   "metadata": {},
   "outputs": [],
   "source": []
  }
 ],
 "metadata": {
  "kernelspec": {
   "display_name": "Python 3",
   "language": "python",
   "name": "python3"
  },
  "language_info": {
   "codemirror_mode": {
    "name": "ipython",
    "version": 3
   },
   "file_extension": ".py",
   "mimetype": "text/x-python",
   "name": "python",
   "nbconvert_exporter": "python",
   "pygments_lexer": "ipython3",
   "version": "3.6.12"
  }
 },
 "nbformat": 4,
 "nbformat_minor": 4
}
